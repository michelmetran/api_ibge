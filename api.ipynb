{
 "cells": [
  {
   "cell_type": "markdown",
   "metadata": {},
   "source": [
    "<br>\n",
    "\n",
    "# *Imports*\n",
    "Inicialmente faz-se necessário criar uma pasta que receberão os dados do IBGE."
   ]
  },
  {
   "cell_type": "code",
   "execution_count": null,
   "metadata": {},
   "outputs": [],
   "source": [
    "import os\n",
    "import json\n",
    "import shutil\n",
    "import folium\n",
    "import urllib.request\n",
    "import pandas as pd\n",
    "import geopandas as gpd"
   ]
  },
  {
   "cell_type": "code",
   "execution_count": null,
   "metadata": {},
   "outputs": [],
   "source": [
    "def predict_encoding(file_path, n_lines=30):\n",
    "    \"\"\"\n",
    "    Predict Encoding determines the encoding of a given file, so that when reading the file (via 'Pandas', for example)\n",
    "    characters, accents and symbols are spelled correctly.\n",
    "    :param file_path: Name and path to file\n",
    "    :param n_lines: Number of lines to read to set encoding. Parameter Optional. Default: 30 lines.\n",
    "    :return: Encoding.\n",
    "    \"\"\"\n",
    "    import chardet\n",
    "\n",
    "    # Open the file as binary data\n",
    "    with open(file_path, 'rb') as f:\n",
    "        # Join binary lines for specified number of lines\n",
    "        raw_data = b''.join([f.readline() for line in range(n_lines)])\n",
    "\n",
    "    return chardet.detect(raw_data)['encoding']"
   ]
  },
  {
   "cell_type": "code",
   "execution_count": null,
   "metadata": {},
   "outputs": [],
   "source": [
    "os.makedirs('data', exist_ok=True)"
   ]
  },
  {
   "cell_type": "markdown",
   "metadata": {},
   "source": [
    "<br>\n",
    "\n",
    "# Dados Espaciais\n",
    "\n",
    "Com a estrutura de pastas criada, é possivel fazer o download dos arquivos disponiblizados pelo IBGE. Há uma infinidade de dados e ainda, há a <a title=\"Link da API\" href=\"http://api.sidra.ibge.gov.br\" target=\"_blank\">**_API do SIDRA_**</a> que possibilita obter mais dados.\n",
    "\n",
    "- https://servicodados.ibge.gov.br/api/docs"
   ]
  },
  {
   "cell_type": "code",
   "execution_count": null,
   "metadata": {},
   "outputs": [],
   "source": [
    "# Define qual o código IBGE do Estado\n",
    "estado = 35\n",
    "\n",
    "# Define URL\n",
    "url = ('https://servicodados.ibge.gov.br/api/v2/malhas/'+\n",
    "       str(estado)+'/?'+\n",
    "       '&formato=application/vnd.geo+json'+\n",
    "       '&resolucao=5'+\n",
    "       '&qualidade=4')\n",
    "\n",
    "\n",
    "# Define o nome do arquivo que será salvo as informações do IBGE\n",
    "filename = os.path.join('data', 'divadmin.json')\n",
    "\n",
    "# Faz o download do arquivo da 'url' e salva localmente com o nome do arquivo\n",
    "with urllib.request.urlopen(url) as response, open(filename, 'wb') as out_file:\n",
    "       shutil.copyfileobj(response, out_file)"
   ]
  },
  {
   "cell_type": "code",
   "execution_count": null,
   "metadata": {},
   "outputs": [],
   "source": [
    "file_encoding = predict_encoding(filename)\n",
    "file_encoding"
   ]
  },
  {
   "cell_type": "code",
   "execution_count": null,
   "metadata": {},
   "outputs": [],
   "source": [
    "# Map Object\n",
    "m = folium.Map(\n",
    "    location=[-23.9619271,-46.3427499],    \n",
    "    zoom_start=1,\n",
    ")\n",
    "\n",
    "# Folium Object\n",
    "folium.GeoJson(\n",
    "    filename,\n",
    "    name='Municípios',\n",
    ").add_to(m)\n",
    "\n",
    "# Fit and Plot map\n",
    "m.fit_bounds(m.get_bounds())\n",
    "m"
   ]
  },
  {
   "cell_type": "markdown",
   "metadata": {},
   "source": [
    "<br>\n",
    "\n",
    "Ou ainda, ao invés de baixar o arquivo, é possivel fazer com o que o mapa seja criado com a leitura dos dados diretamente do site do IBGE. Nessa função o *encoding* já foi definido, evitando o problema mencionado acima."
   ]
  },
  {
   "cell_type": "code",
   "execution_count": null,
   "metadata": {},
   "outputs": [],
   "source": [
    "web = urllib.request.urlopen(url)\n",
    "data = web.read()\n",
    "encoding = web.info().get_content_charset('utf-8')\n",
    "\n",
    "jsn = json.loads(data.decode(encoding))\n",
    "#jsn"
   ]
  },
  {
   "cell_type": "code",
   "execution_count": null,
   "metadata": {},
   "outputs": [],
   "source": [
    "# Cria o mapa\n",
    "m = folium.Map(\n",
    "    location=[-23.9619271,-46.3427499],\n",
    "    zoom_start=8\n",
    ")\n",
    "\n",
    "folium.GeoJson(\n",
    "    jsn,\n",
    "    name='Municípios',\n",
    ").add_to(m)\n",
    "\n",
    "# Fit and Plot map\n",
    "m.fit_bounds(m.get_bounds())\n",
    "m"
   ]
  },
  {
   "cell_type": "markdown",
   "metadata": {},
   "source": [
    "<br>\n",
    "\n",
    "Uma vez com o mapa na mão, de qualquer que seja o meio que foi obtido, é possivel analisar a \"tabela de atributos\".\n",
    "Lá descobrimos que existe o par de coordenadas que define o centroide e, ainda, o 'codarea' que tem o código do IBGE do município."
   ]
  },
  {
   "cell_type": "markdown",
   "metadata": {},
   "source": [
    "<br>\n",
    "\n",
    "# Dados Tabulares"
   ]
  },
  {
   "cell_type": "code",
   "execution_count": null,
   "metadata": {},
   "outputs": [],
   "source": [
    "# Defines IBGE Code State\n",
    "estado = 35\n",
    "\n",
    "# Defines URL\n",
    "url = 'http://servicodados.ibge.gov.br/api/v1/localidades/estados/{}/municipios'.format(estado)\n",
    "url"
   ]
  },
  {
   "cell_type": "code",
   "execution_count": null,
   "metadata": {},
   "outputs": [],
   "source": [
    "df = pd.read_json(url)"
   ]
  },
  {
   "cell_type": "code",
   "execution_count": null,
   "metadata": {},
   "outputs": [],
   "source": [
    "# Seleciona Colunas\n",
    "df = df[['id', 'nome']]\n",
    "\n",
    "# Renomeia Colunas\n",
    "df = df.rename(columns=lambda x: x.replace('id', 'id_ibge'))\n",
    "df['id_ibge'] = str(df['id_ibge'])\n",
    "df.dtypes"
   ]
  },
  {
   "cell_type": "code",
   "execution_count": null,
   "metadata": {},
   "outputs": [],
   "source": [
    "# Geojson file\n",
    "json_file = os.path.join('data', 'divadmin.json')\n",
    "\n",
    "# Geodataframe\n",
    "gdf = gpd.read_file(json_file)\n",
    "#gdf['codarea'] = pd.to_numeric(gdf['codarea'])\n",
    "gdf"
   ]
  },
  {
   "cell_type": "code",
   "execution_count": null,
   "metadata": {},
   "outputs": [],
   "source": [
    "#set(gdf['codarea'])\n",
    "gdf.dtypes"
   ]
  },
  {
   "cell_type": "code",
   "execution_count": null,
   "metadata": {},
   "outputs": [],
   "source": [
    "m = folium.Map(\n",
    "    location=[-23.9619271,-46.3427499],\n",
    "    zoom_start=8,\n",
    ")"
   ]
  },
  {
   "cell_type": "code",
   "execution_count": null,
   "metadata": {},
   "outputs": [],
   "source": [
    "folium.Choropleth(\n",
    "    geo_data=json_file,\n",
    "    #geo_data=gdf,\n",
    "    name='choropleth',    \n",
    "    data=df,\n",
    "    columns=['id_ibge', 'nome'],\n",
    "    key_on='features.properties.codearea', # Tá aqui o erro\n",
    "    fill_color='YlGn',\n",
    "    fill_opacity=0.7,\n",
    "    line_opacity=0.2,\n",
    "    legend_name='Unemployment Rate %',\n",
    ").add_to(m)\n",
    "\n",
    "m"
   ]
  },
  {
   "cell_type": "code",
   "execution_count": null,
   "metadata": {},
   "outputs": [],
   "source": [
    "json.load(open(json_file))"
   ]
  },
  {
   "cell_type": "code",
   "execution_count": null,
   "metadata": {},
   "outputs": [],
   "source": []
  },
  {
   "cell_type": "code",
   "execution_count": null,
   "metadata": {},
   "outputs": [],
   "source": [
    "import requests\n",
    "req = requests.get('https://raw.githubusercontent.com/python-visualization/folium/master/examples/data/world-countries.json')\n",
    "geofile = req.json()"
   ]
  },
  {
   "cell_type": "code",
   "execution_count": null,
   "metadata": {},
   "outputs": [],
   "source": [
    "geofile"
   ]
  },
  {
   "cell_type": "code",
   "execution_count": null,
   "metadata": {},
   "outputs": [],
   "source": []
  }
 ],
 "metadata": {
  "kernelspec": {
   "display_name": "Python [conda env:pablocarreira-py38] *",
   "language": "python",
   "name": "conda-env-pablocarreira-py38-py"
  },
  "language_info": {
   "codemirror_mode": {
    "name": "ipython",
    "version": 3
   },
   "file_extension": ".py",
   "mimetype": "text/x-python",
   "name": "python",
   "nbconvert_exporter": "python",
   "pygments_lexer": "ipython3",
   "version": "3.8.10"
  },
  "toc": {
   "base_numbering": 1,
   "nav_menu": {},
   "number_sections": true,
   "sideBar": true,
   "skip_h1_title": false,
   "title_cell": "Table of Contents",
   "title_sidebar": "Contents",
   "toc_cell": false,
   "toc_position": {
    "height": "calc(100% - 180px)",
    "left": "10px",
    "top": "150px",
    "width": "259px"
   },
   "toc_section_display": true,
   "toc_window_display": true
  },
  "toc-autonumbering": true
 },
 "nbformat": 4,
 "nbformat_minor": 4
}
