{
 "cells": [
  {
   "cell_type": "markdown",
   "metadata": {},
   "source": [
    "<br>\n",
    "\n",
    "# Introdução"
   ]
  },
  {
   "cell_type": "code",
   "execution_count": null,
   "metadata": {},
   "outputs": [],
   "source": [
    "import os\n",
    "import json\n",
    "import folium\n",
    "import requests\n",
    "import numpy as np\n",
    "import pandas as pd\n",
    "import geopandas as gpd"
   ]
  },
  {
   "cell_type": "code",
   "execution_count": null,
   "metadata": {},
   "outputs": [],
   "source": [
    "#import shutil\n",
    "#import urllib.request"
   ]
  },
  {
   "cell_type": "code",
   "execution_count": null,
   "metadata": {},
   "outputs": [],
   "source": [
    "#!pip install traquitanas --upgrade"
   ]
  },
  {
   "cell_type": "code",
   "execution_count": null,
   "metadata": {},
   "outputs": [],
   "source": [
    "import traquitanas.utils as tt"
   ]
  },
  {
   "cell_type": "markdown",
   "metadata": {},
   "source": [
    "<br>\n",
    "\n",
    "# Dados Espaciais\n",
    "\n",
    "Com a estrutura de pastas criada, é possivel fazer o download dos arquivos disponiblizados pelo IBGE. Há uma infinidade de dados e ainda, há a <a title=\"Link da API\" href=\"http://api.sidra.ibge.gov.br\" target=\"_blank\">**_API do SIDRA_**</a> que possibilita obter mais dados.\n",
    "\n",
    "- https://servicodados.ibge.gov.br/api/docs"
   ]
  },
  {
   "cell_type": "code",
   "execution_count": null,
   "metadata": {},
   "outputs": [],
   "source": [
    "# Inicialmente faz-se necessário criar uma pasta que receberão os dados do IBGE\n",
    "data_path = os.path.join('..', 'data')\n",
    "os.makedirs(data_path, exist_ok=True)"
   ]
  },
  {
   "cell_type": "code",
   "execution_count": null,
   "metadata": {},
   "outputs": [],
   "source": [
    "# Define qual o código IBGE do Estado\n",
    "estado = 35\n",
    "\n",
    "# Define URL\n",
    "parameters = {\n",
    "    'formato': 'application/vnd.geo+json',\n",
    "    'resolucao': '5',\n",
    "    'qualidade': '4',\n",
    "}\n",
    "url = 'https://servicodados.ibge.gov.br/api/v2/malhas/{}'.format(estado)\n",
    "r = requests.get(url, params=parameters)\n",
    "print(r.url)\n",
    "\n",
    "# Define o nome do arquivo que será salvo as informações do IBGE\n",
    "geojson_file = os.path.join(data_path, 'divadmin.geojson')\n",
    "\n",
    "# Save\n",
    "with open(geojson_file, 'wb') as f:\n",
    "    f.write(r.content)"
   ]
  },
  {
   "cell_type": "code",
   "execution_count": null,
   "metadata": {},
   "outputs": [],
   "source": [
    "file_encoding = tt.predict_encoding(geojson_file)\n",
    "file_encoding"
   ]
  },
  {
   "cell_type": "code",
   "execution_count": null,
   "metadata": {},
   "outputs": [],
   "source": [
    "# Map Object\n",
    "m = folium.Map()\n",
    "\n",
    "# Folium Object\n",
    "folium.GeoJson(geojson_file).add_to(m)\n",
    "\n",
    "# Fit and Plot map\n",
    "m.fit_bounds(m.get_bounds())\n",
    "m"
   ]
  },
  {
   "cell_type": "markdown",
   "metadata": {},
   "source": [
    "<br>\n",
    "\n",
    "Ou ainda, ao invés de baixar o arquivo, é possivel fazer com o que o mapa seja criado com a leitura dos dados diretamente do site do IBGE. Nessa função o *encoding* já foi definido, evitando o problema mencionado acima."
   ]
  },
  {
   "cell_type": "code",
   "execution_count": null,
   "metadata": {},
   "outputs": [],
   "source": [
    "r = requests.get(url, params=parameters)\n",
    "geojson = json.loads(r.text)"
   ]
  },
  {
   "cell_type": "code",
   "execution_count": null,
   "metadata": {},
   "outputs": [],
   "source": [
    "# Map Object\n",
    "m = folium.Map()\n",
    "\n",
    "# Folium Object\n",
    "folium.GeoJson(geojson).add_to(m)\n",
    "\n",
    "# Fit and Plot map\n",
    "m.fit_bounds(m.get_bounds())\n",
    "m"
   ]
  },
  {
   "cell_type": "markdown",
   "metadata": {},
   "source": [
    "<br>\n",
    "\n",
    "Uma vez com o mapa na mão, de qualquer que seja o meio que foi obtido, é possivel analisar a \"tabela de atributos\".\n",
    "Lá descobrimos que existe o par de coordenadas que define o centroide e, ainda, o 'codarea' que tem o código do IBGE do município."
   ]
  },
  {
   "cell_type": "markdown",
   "metadata": {},
   "source": [
    "<br>\n",
    "\n",
    "# Dados Tabulares"
   ]
  },
  {
   "cell_type": "code",
   "execution_count": null,
   "metadata": {},
   "outputs": [],
   "source": [
    "# Defines IBGE Code State\n",
    "estado = 35\n",
    "\n",
    "# Defines URL\n",
    "url = 'http://servicodados.ibge.gov.br/api/v1/localidades/estados/{}/municipios'.format(estado)\n",
    "print('{}\\n'.format(url))\n",
    "\n",
    "# Create Dataframe\n",
    "df = pd.read_json(url)\n",
    "\n",
    "# Seleciona Colunas\n",
    "df = df[['id', 'nome']]\n",
    "\n",
    "# Renomeia Colunas\n",
    "df = df.rename(columns=lambda x: x.replace('id', 'id_ibge'))\n",
    "\n",
    "# Adjust dtypes\n",
    "#df['id_ibge'] = df['id_ibge'].apply(lambda x: str(x))\n",
    "\n",
    "# Add Random Colum\n",
    "df['random'] = np.random.uniform(1, 6, df.shape[0])\n",
    "\n",
    "# Results\n",
    "print('{}\\n'.format(df.dtypes))\n",
    "display(df.head())"
   ]
  },
  {
   "cell_type": "code",
   "execution_count": null,
   "metadata": {},
   "outputs": [],
   "source": [
    "# Geojson file\n",
    "geojson_file = os.path.join(data_path, 'divadmin.geojson')\n",
    "\n",
    "# Geodataframe\n",
    "gdf = gpd.read_file(geojson_file)\n",
    "\n",
    "# Adjust dtypes\n",
    "gdf['codarea'] = pd.to_numeric(gdf['codarea'])\n",
    "\n",
    "# Drop\n",
    "gdf.rename({'codarea': 'id_ibge'}, axis=1, inplace=True)\n",
    "gdf = gdf[['id_ibge', 'geometry']]\n",
    "\n",
    "# Results\n",
    "print('{}\\n'.format(gdf.dtypes))\n",
    "display(gdf.head())"
   ]
  },
  {
   "cell_type": "code",
   "execution_count": null,
   "metadata": {},
   "outputs": [],
   "source": [
    "# Create Map\n",
    "m = folium.Map()\n",
    "\n",
    "highlight_function = lambda x: {\n",
    "    'fillColor': '#000000', \n",
    "    'color':'#000000',\n",
    "    'fillOpacity': 30,\n",
    "    'weight': 1\n",
    "}\n",
    "\n",
    "choropleth = folium.Choropleth(\n",
    "    geo_data=gdf,\n",
    "    name='choropleth',    \n",
    "    data=df,\n",
    "    columns=['id_ibge', 'random', 'nome'],\n",
    "    key_on='feature.properties.id_ibge',\n",
    "    fill_color='YlGnBu',\n",
    "    fill_opacity=0.5,\n",
    "    line_opacity=0.1,\n",
    "    legend_name='Legenda',\n",
    "    smooth_factor=0,\n",
    "    show=False,\n",
    "    overlay=True,\n",
    "    highlight=True,\n",
    "    highlight_function=highlight_function,\n",
    "    nan_fill_color='White',\n",
    ").add_to(m)\n",
    "\n",
    "# Add Field in geodataframe\n",
    "choropleth.geojson.add_child(\n",
    "    folium.features.GeoJsonTooltip(['id_ibge'], labels=False)\n",
    ")\n",
    "\n",
    "# Fit and Plot map\n",
    "m.fit_bounds(m.get_bounds())\n",
    "m"
   ]
  },
  {
   "cell_type": "code",
   "execution_count": null,
   "metadata": {},
   "outputs": [],
   "source": []
  }
 ],
 "metadata": {
  "kernelspec": {
   "display_name": "Python [conda env:pablocarreira-py39] *",
   "language": "python",
   "name": "conda-env-pablocarreira-py39-py"
  },
  "language_info": {
   "codemirror_mode": {
    "name": "ipython",
    "version": 3
   },
   "file_extension": ".py",
   "mimetype": "text/x-python",
   "name": "python",
   "nbconvert_exporter": "python",
   "pygments_lexer": "ipython3",
   "version": "3.9.10"
  },
  "toc": {
   "base_numbering": 1,
   "nav_menu": {},
   "number_sections": true,
   "sideBar": true,
   "skip_h1_title": false,
   "title_cell": "Table of Contents",
   "title_sidebar": "Contents",
   "toc_cell": false,
   "toc_position": {
    "height": "calc(100% - 180px)",
    "left": "10px",
    "top": "150px",
    "width": "259px"
   },
   "toc_section_display": true,
   "toc_window_display": true
  },
  "toc-autonumbering": true
 },
 "nbformat": 4,
 "nbformat_minor": 4
}
