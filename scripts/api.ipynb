{
 "cells": [
  {
   "cell_type": "markdown",
   "metadata": {},
   "source": [
    "<br>\n",
    "\n",
    "# Introdução\n"
   ]
  },
  {
   "cell_type": "code",
   "execution_count": null,
   "metadata": {},
   "outputs": [],
   "source": [
    "import os\n",
    "import ast\n",
    "import json\n",
    "import folium\n",
    "import requests\n",
    "import numpy as np\n",
    "import pandas as pd\n",
    "import geopandas as gpd"
   ]
  },
  {
   "cell_type": "code",
   "execution_count": null,
   "metadata": {},
   "outputs": [],
   "source": [
    "#import shutil\n",
    "#import urllib.request"
   ]
  },
  {
   "cell_type": "code",
   "execution_count": null,
   "metadata": {},
   "outputs": [],
   "source": [
    "#!pip install traquitanas --upgrade"
   ]
  },
  {
   "cell_type": "code",
   "execution_count": null,
   "metadata": {},
   "outputs": [],
   "source": [
    "import traquitanas.utils as tt"
   ]
  },
  {
   "cell_type": "markdown",
   "metadata": {},
   "source": [
    "<br>\n",
    "\n",
    "## Paths\n"
   ]
  },
  {
   "cell_type": "code",
   "execution_count": null,
   "metadata": {},
   "outputs": [],
   "source": [
    "# Inicialmente faz-se necessário criar uma pasta que receberão os dados do IBGE\n",
    "data_path = os.path.join('..', 'data')\n",
    "input_path = os.path.join(data_path, 'input')\n",
    "output_path = os.path.join(data_path, 'output')\n",
    "\n",
    "output_path_geo = os.path.join(output_path, 'geo')\n",
    "output_path_tab = os.path.join(output_path, 'tab')\n",
    "\n",
    "os.makedirs(data_path, exist_ok=True)\n",
    "os.makedirs(input_path, exist_ok=True)\n",
    "os.makedirs(output_path, exist_ok=True)\n",
    "os.makedirs(output_path_geo, exist_ok=True)\n",
    "os.makedirs(output_path_tab, exist_ok=True)"
   ]
  },
  {
   "cell_type": "markdown",
   "metadata": {},
   "source": [
    "<br>\n",
    "\n",
    "# Dados Espaciais\n",
    "\n",
    "Com a estrutura de pastas criada, é possivel fazer o download dos arquivos disponiblizados pelo IBGE. Há uma infinidade de dados.\n",
    "\n",
    "- https://servicodados.ibge.gov.br/api/docs\n"
   ]
  },
  {
   "cell_type": "markdown",
   "metadata": {},
   "source": [
    "<br>\n",
    "\n",
    "## São Paulo\n"
   ]
  },
  {
   "cell_type": "code",
   "execution_count": null,
   "metadata": {},
   "outputs": [],
   "source": [
    "# Define qual o código IBGE do Estado\n",
    "estado = 35\n",
    "\n",
    "# Define URL\n",
    "parameters = {\n",
    "    'formato': 'application/vnd.geo+json',\n",
    "    'resolucao': '5',\n",
    "    'qualidade': '4',\n",
    "}\n",
    "url = 'https://servicodados.ibge.gov.br/api/v2/malhas/{}'.format(estado)\n",
    "r = requests.get(url, params=parameters)\n",
    "print(r.url)\n",
    "\n",
    "# Define o nome do arquivo que será salvo as informações do IBGE\n",
    "geojson_file = os.path.join(input_path, 'sp_ibge.geojson')\n",
    "\n",
    "# Save\n",
    "with open(geojson_file, 'wb') as f:\n",
    "    f.write(r.content)"
   ]
  },
  {
   "cell_type": "code",
   "execution_count": null,
   "metadata": {},
   "outputs": [],
   "source": [
    "file_encoding = tt.predict_encoding(geojson_file)\n",
    "file_encoding"
   ]
  },
  {
   "cell_type": "code",
   "execution_count": null,
   "metadata": {},
   "outputs": [],
   "source": [
    "gdf = gpd.read_file(\n",
    "    geojson_file    \n",
    ")\n",
    "\n",
    "gdf.rename(\n",
    "    {'codarea': 'id_ibge'},\n",
    "    axis=1,\n",
    "    inplace=True\n",
    ")\n",
    "\n",
    "# Transforma Coordenadas\n",
    "gdf = gdf.to_crs(epsg=4326)\n",
    "\n",
    "# Salva Arquivo\n",
    "gdf.to_file(\n",
    "    os.path.join(output_path_geo, 'sp_igbe.gpkg'),\n",
    "    layer='Limite Municipal',\n",
    "    driver='GPKG',\n",
    "    encoding='utf-8'\n",
    ")\n",
    "gdf"
   ]
  },
  {
   "cell_type": "code",
   "execution_count": null,
   "metadata": {},
   "outputs": [],
   "source": [
    "# Map Object\n",
    "m = folium.Map()\n",
    "\n",
    "# Folium Object\n",
    "folium.GeoJson(geojson_file).add_to(m)\n",
    "\n",
    "# Fit and Plot map\n",
    "m.fit_bounds(m.get_bounds())\n",
    "m"
   ]
  },
  {
   "cell_type": "markdown",
   "metadata": {},
   "source": [
    "<br>\n",
    "\n",
    "## São Paulo (Memória)\n"
   ]
  },
  {
   "cell_type": "markdown",
   "metadata": {},
   "source": [
    "<br>\n",
    "\n",
    "Ou ainda, ao invés de baixar o arquivo, é possivel fazer com o que o mapa seja criado com a leitura dos dados diretamente do site do IBGE. Nessa função o _encoding_ já foi definido, evitando o problema mencionado acima.\n"
   ]
  },
  {
   "cell_type": "code",
   "execution_count": null,
   "metadata": {},
   "outputs": [],
   "source": [
    "r = requests.get(url, params=parameters)\n",
    "geojson = json.loads(r.text)"
   ]
  },
  {
   "cell_type": "code",
   "execution_count": null,
   "metadata": {},
   "outputs": [],
   "source": [
    "# Map Object\n",
    "m = folium.Map()\n",
    "\n",
    "# Folium Object\n",
    "folium.GeoJson(geojson).add_to(m)\n",
    "\n",
    "# Fit and Plot map\n",
    "m.fit_bounds(m.get_bounds())\n",
    "m"
   ]
  },
  {
   "cell_type": "markdown",
   "metadata": {},
   "source": [
    "<br>\n",
    "\n",
    "## Estados\n"
   ]
  },
  {
   "cell_type": "code",
   "execution_count": null,
   "metadata": {},
   "outputs": [],
   "source": [
    "# Define qual o código IBGE do Estado\n",
    "estado = 'UF'\n",
    "\n",
    "# Define URL\n",
    "parameters = {\n",
    "    'formato': 'application/vnd.geo+json',\n",
    "    #'resolucao': '5',\n",
    "    #'qualidade': '4',\n",
    "}\n",
    "url = 'https://servicodados.ibge.gov.br/api/v3/malhas/paises/BR?intrarregiao={}'.format(estado)\n",
    "r = requests.get(url, params=parameters)\n",
    "print(r.url)\n",
    "\n",
    "# Define o nome do arquivo que será salvo as informações do IBGE\n",
    "geojson_file = os.path.join(input_path, 'br_estados_ibge.geojson')\n",
    "\n",
    "# Save\n",
    "with open(geojson_file, 'wb') as f:\n",
    "    f.write(r.content)"
   ]
  },
  {
   "cell_type": "code",
   "execution_count": null,
   "metadata": {},
   "outputs": [],
   "source": [
    "gdf = gpd.read_file(\n",
    "    geojson_file    \n",
    ")\n",
    "\n",
    "gdf.rename(\n",
    "    {'codarea': 'id_ibge'},\n",
    "    axis=1,\n",
    "    inplace=True\n",
    ")\n",
    "\n",
    "# Transforma Coordenadas\n",
    "gdf = gdf.to_crs(epsg=4326)\n",
    "\n",
    "# Salva Arquivo\n",
    "gdf.to_file(\n",
    "    os.path.join(output_path_geo, 'br_igbe.gpkg'),\n",
    "    layer='Limite Municipal',\n",
    "    driver='GPKG',\n",
    "    encoding='utf-8'\n",
    ")\n",
    "gdf.head()"
   ]
  },
  {
   "cell_type": "code",
   "execution_count": null,
   "metadata": {},
   "outputs": [],
   "source": [
    "# API\n",
    "list_estados = []\n",
    "for index, row in gdf.iterrows():\n",
    "    url = 'https://servicodados.ibge.gov.br/api/v1/localidades/estados/{UF}'.format(UF=row['id_ibge'])\n",
    "    r = requests.get(url)\n",
    "    dict_quotes = r.content.decode(r.encoding)\n",
    "    dict_quotes = ast.literal_eval(dict_quotes)\n",
    "    list_estados.append(dict_quotes)\n",
    "    \n",
    "# Transforma dictionary in Dataframe\n",
    "df = pd.DataFrame(list_estados)\n",
    "df.head()\n",
    "\n",
    "# Adjust nested Dictionary\n",
    "for i, row in df.iterrows():\n",
    "    df.loc[i, 'id_regiao'] = row['regiao']['id']\n",
    "    df.loc[i, 'sigla_regiao'] = row['regiao']['sigla']\n",
    "    df.loc[i, 'nome_regiao'] = row['regiao']['nome']\n",
    "\n",
    "# Fim\n",
    "df.drop(['regiao'], axis=1, inplace=True)\n",
    "df['id_regiao'] = pd.to_numeric(df['id_regiao'], downcast='integer')\n",
    "df.head()"
   ]
  },
  {
   "cell_type": "code",
   "execution_count": null,
   "metadata": {},
   "outputs": [],
   "source": [
    "df.to_csv(\n",
    "    os.path.join(output_path_tab, 'tab_uf_ibge.csv'),\n",
    "    index=False\n",
    ")"
   ]
  },
  {
   "cell_type": "code",
   "execution_count": null,
   "metadata": {},
   "outputs": [],
   "source": [
    "# Map Object\n",
    "m = folium.Map()\n",
    "\n",
    "# Folium Object\n",
    "folium.GeoJson(geojson_file).add_to(m)\n",
    "\n",
    "# Fit and Plot map\n",
    "m.fit_bounds(m.get_bounds())\n",
    "m"
   ]
  },
  {
   "cell_type": "markdown",
   "metadata": {},
   "source": [
    "<br>\n",
    "\n",
    "Uma vez com o mapa na mão, de qualquer que seja o meio que foi obtido, é possivel analisar a \"tabela de atributos\".\n",
    "Lá descobrimos que existe o par de coordenadas que define o centroide e, ainda, o 'codarea' que tem o código do IBGE do município.\n"
   ]
  },
  {
   "cell_type": "markdown",
   "metadata": {},
   "source": [
    "<br>\n",
    "\n",
    "# Dados Tabulares\n"
   ]
  },
  {
   "cell_type": "code",
   "execution_count": null,
   "metadata": {},
   "outputs": [],
   "source": [
    "df_ufs = pd.read_csv(\n",
    "    os.path.join(output_path_tab, 'tab_uf_ibge.csv'),\n",
    ")\n",
    "\n",
    "list_dfs = []\n",
    "for i, row  in df_ufs.iterrows():\n",
    "    estado = row['id']\n",
    "    url = 'http://servicodados.ibge.gov.br/api/v1/localidades/estados/{}/municipios'.format(estado)    \n",
    "    df = pd.read_json(url)\n",
    "    list_dfs.append(df)\n",
    "\n",
    "# Ajustes\n",
    "df = pd.concat(list_dfs)\n",
    "df = df[['id', 'nome']].copy()\n",
    "\n",
    "# Salva\n",
    "df.to_csv(\n",
    "    os.path.join(output_path_tab, 'tab_municipio_ibge.csv'),\n",
    "    index=False\n",
    ")\n",
    "df.head()"
   ]
  },
  {
   "cell_type": "code",
   "execution_count": null,
   "metadata": {},
   "outputs": [],
   "source": [
    "# Defines IBGE Code State\n",
    "estado = 35\n",
    "\n",
    "# Defines URL\n",
    "url = 'http://servicodados.ibge.gov.br/api/v1/localidades/estados/{}/municipios'.format(estado)\n",
    "print('{}\\n'.format(url))\n",
    "\n",
    "# Create Dataframe\n",
    "df = pd.read_json(url)\n",
    "\n",
    "# Seleciona Colunas\n",
    "df = df[['id', 'nome']]\n",
    "\n",
    "# Renomeia Colunas\n",
    "df = df.rename(columns=lambda x: x.replace('id', 'id_ibge'))\n",
    "df"
   ]
  },
  {
   "cell_type": "markdown",
   "metadata": {},
   "source": [
    "<br>\n",
    "\n",
    "# Mapa Categórico\n"
   ]
  },
  {
   "cell_type": "code",
   "execution_count": null,
   "metadata": {},
   "outputs": [],
   "source": [
    "# Adjust dtypes\n",
    "#df['id_ibge'] = df['id_ibge'].apply(lambda x: str(x))\n",
    "\n",
    "# Add Random Colum\n",
    "df['random'] = np.random.uniform(1, 6, df.shape[0])\n",
    "\n",
    "# Results\n",
    "print('{}\\n'.format(df.dtypes))\n",
    "display(df.head())"
   ]
  },
  {
   "cell_type": "code",
   "execution_count": null,
   "metadata": {},
   "outputs": [],
   "source": [
    "# Geodataframe\n",
    "gdf = gpd.read_file(\n",
    "    os.path.join(output_path_geo, 'sp_igbe.gpkg')\n",
    ")\n",
    "\n",
    "# Ajusta os Tipo\n",
    "gdf['id_ibge'] = pd.to_numeric(gdf['id_ibge'], downcast='integer')\n",
    "\n",
    "# Results\n",
    "print('{}\\n'.format(gdf.dtypes))\n",
    "display(gdf.head())"
   ]
  },
  {
   "cell_type": "code",
   "execution_count": null,
   "metadata": {},
   "outputs": [],
   "source": [
    "# Create Map\n",
    "m = folium.Map()\n",
    "\n",
    "highlight_function = lambda x: {\n",
    "    'fillColor': '#000000', \n",
    "    'color':'#000000',\n",
    "    'fillOpacity': 30,\n",
    "    'weight': 1\n",
    "}\n",
    "\n",
    "choropleth = folium.Choropleth(\n",
    "    geo_data=gdf,\n",
    "    name='choropleth',    \n",
    "    data=df,\n",
    "    columns=['id_ibge', 'random', 'nome'],\n",
    "    key_on='feature.properties.id_ibge',\n",
    "    fill_color='YlGnBu',\n",
    "    fill_opacity=0.5,\n",
    "    line_opacity=0.1,\n",
    "    legend_name='Legenda',\n",
    "    smooth_factor=0,\n",
    "    show=False,\n",
    "    overlay=True,\n",
    "    highlight=True,\n",
    "    highlight_function=highlight_function,\n",
    "    nan_fill_color='White',\n",
    ").add_to(m)\n",
    "\n",
    "# Add Field in geodataframe\n",
    "choropleth.geojson.add_child(\n",
    "    folium.features.GeoJsonTooltip(['id_ibge'], labels=False)\n",
    ")\n",
    "\n",
    "# Fit and Plot map\n",
    "m.fit_bounds(m.get_bounds())\n",
    "m"
   ]
  },
  {
   "cell_type": "code",
   "execution_count": null,
   "metadata": {},
   "outputs": [],
   "source": []
  }
 ],
 "metadata": {
  "kernelspec": {
   "display_name": "Python 3.9.13 ('pablocarreira-py39')",
   "language": "python",
   "name": "python3"
  },
  "language_info": {
   "codemirror_mode": {
    "name": "ipython",
    "version": 3
   },
   "file_extension": ".py",
   "mimetype": "text/x-python",
   "name": "python",
   "nbconvert_exporter": "python",
   "pygments_lexer": "ipython3",
   "version": "3.9.13"
  },
  "toc": {
   "base_numbering": 1,
   "nav_menu": {},
   "number_sections": true,
   "sideBar": true,
   "skip_h1_title": false,
   "title_cell": "Table of Contents",
   "title_sidebar": "Contents",
   "toc_cell": false,
   "toc_position": {
    "height": "calc(100% - 180px)",
    "left": "10px",
    "top": "150px",
    "width": "259px"
   },
   "toc_section_display": true,
   "toc_window_display": true
  },
  "toc-autonumbering": true,
  "vscode": {
   "interpreter": {
    "hash": "397a8db9a99587ebc9659e575e97c3dbc03b7cdbd9bc181d706cc19eab1087ed"
   }
  }
 },
 "nbformat": 4,
 "nbformat_minor": 4
}
