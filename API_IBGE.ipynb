{
 "cells": [
  {
   "cell_type": "markdown",
   "metadata": {},
   "source": [
    "---\n",
    "layout: post\n",
    "title: API do IBGE\n",
    "subtitle: Exercícios e Referências\n",
    "tags: [python, pycharm, jupyter, package, ibge, api]\n",
    "image: /img/posts/pandas_icon.png\n",
    "bigimg: /img/posts/pandas_big.png\n",
    "gh-repo: michelmetran/api_ibge\n",
    "gh-badge: [follow, star, watch, fork]\n",
    "comments: true\n",
    "\n",
    "---"
   ]
  },
  {
   "cell_type": "markdown",
   "metadata": {},
   "source": [
    "A <a title=\"Link da API\" href=\"https://servicodados.ibge.gov.br\" target=\"_blank\">**_API do IBGE_**</a> possibilita baixar os dados diretamente para o _script_. Para baixar as malhas, ou seja, informações geoespaciais, é possivel baixar os dados em três diferentes formatos:\n",
    "- **_?formato=application/vnd.geo+json_**, para baixar os dados em GeoJson;\n",
    "- **_?formato=application/json_**, para baixar os dados em TopoJson;\n",
    "- **_?formato=image/svg+xml_**, para baixar os dados em SVG;\n",
    "\n",
    "É possível definir a resolução que, na prática, refere-se ao nível de detalhamento do dado obtido.\n",
    "- **_?resolucao=0_**, Nenhuma divisão político-administrativa é inserida no interior da malha\n",
    "- **_?resolucao=1_**, Inclui na malha as macrorregiões. Válido apenas quando a localidade for BR.\n",
    "- **_?resolucao=2_**, Inclui na malha as Unidades da Federação. Válido apenas quando a localidade for BR ou uma macroregião\n",
    "- **_?resolucao=3_**, inclui na malha as mesorregiões. Válido apenas quando a localidade for BR, macroregião ou Unidade da Federação\n",
    "- **_?resolucao=4_**, Inclui na malha as microrregiões. Válido apenas quando a localidade for BR, macroregião, Unidade da Federação ou mesorregião\n",
    "- **_?resolucao=5_**, inclui na malha os municípios\n",
    "\n",
    "E a qualidade.\n",
    "- **_?qualidade=1_**, pior qualidade;\n",
    "- **_?qualidade=2_**, razoável qualidade;\n",
    "- **_?qualidade=3_**, boa qualidade;\n",
    "- **_?qualidade=4_**, melhor qualidade;\n",
    "\n",
    "\n",
    "{: .alert .alert-danger}\n",
    "**Aviso:** Esse _post_ tem a finalidade de mostrar os comandos básicos e me deixar com uma \"cola\" rápida para meu uso cotidiano. Todas os códigos são exemplificativos e podem/devem ser alterados, indicando o nome dos arquivos e diretórios corretamente.\n",
    "\n",
    "{: .box-note}\n",
    "**Nota:** É possível acessar esse _post_ em formato <a title=\"Link do Folium\" href=\"https://github.com/michelmetran/api_ibge/raw/master/docs/api_ibge.pdf\" target=\"_blank\">**_pdf_**</a>, diretamente por meio do <a title=\"Link do Repositório\" href=\"https://github.com/michelmetran/api_ibge\" target=\"_blank\">**repositório do GitHub**</a> ou ainda, de maneira interativa, usando o [![Binder](https://mybinder.org/badge_logo.svg)](https://mybinder.org/v2/gh/michelmetran/api_ibge/master)."
   ]
  },
  {
   "cell_type": "markdown",
   "metadata": {},
   "source": [
    "<br>\n",
    "\n",
    "# Pastas: início do projeto\n",
    "Inicialmente faz-se necessário criar uma pasta que receberão os dados do IBGE."
   ]
  },
  {
   "cell_type": "code",
   "execution_count": null,
   "metadata": {},
   "outputs": [],
   "source": [
    "%run '../codes/files/create_folders.py'\n",
    "create_folders('')"
   ]
  },
  {
   "cell_type": "markdown",
   "metadata": {},
   "source": [
    "# _Download_ dos dados geoespaciais\n",
    "Com a estrutura de pastas criada, é possivel fazer o download dos arquivos disponiblizados pelo IBGE. Há uma infinidade de dados e ainda, há a <a title=\"Link da API\" href=\"http://api.sidra.ibge.gov.br\" target=\"_blank\">**_API do SIDRA_**</a> que possibilita obter mais dados."
   ]
  },
  {
   "cell_type": "code",
   "execution_count": null,
   "metadata": {},
   "outputs": [],
   "source": [
    "import os\n",
    "import urllib.request\n",
    "import shutil\n",
    "\n",
    "# Define qual o código IBGE do Estado\n",
    "estado = 35\n",
    "\n",
    "# Define o nome do arquivo que será salvo as informações do IBGE\n",
    "filename = os.path.join('data', 'divadmin.json')\n",
    "\n",
    "url = ('https://servicodados.ibge.gov.br/api/v2/malhas/'+\n",
    "       str(estado)+'/?'+\n",
    "       '&formato=application/vnd.geo+json'+\n",
    "       '&resolucao=5'+\n",
    "       '&qualidade=4')\n",
    "\n",
    "# Faz o download do arquivo da 'url' e salva localmente com o nome do arquivo\n",
    "with urllib.request.urlopen(url) as response, open(filename, 'wb') as out_file:\n",
    "       shutil.copyfileobj(response, out_file)"
   ]
  },
  {
   "cell_type": "markdown",
   "metadata": {},
   "source": [
    "Enfrentei problemas com o encoding do arquivo baixado. Com a função abaixo é possivel conferir que o encoding está correto (_ascii_) para dar continuidade."
   ]
  },
  {
   "cell_type": "code",
   "execution_count": null,
   "metadata": {},
   "outputs": [],
   "source": [
    "%run '../codes/files/predict_encoding.py'\n",
    "file_encoding = predict_encoding(filename)\n",
    "print(file_encoding)"
   ]
  },
  {
   "cell_type": "code",
   "execution_count": null,
   "metadata": {},
   "outputs": [],
   "source": [
    "import folium\n",
    "\n",
    "# Cria o mapa\n",
    "webmap = folium.Map(\n",
    "    location=[-23.9619271,-46.3427499],    \n",
    "    zoom_start=1\n",
    ")\n",
    "\n",
    "folium.GeoJson(filename, name='Trajetos').add_to(webmap)\n",
    "\n",
    "# Fit and Plot map\n",
    "webmap.fit_bounds(webmap.get_bounds())\n",
    "webmap"
   ]
  },
  {
   "cell_type": "markdown",
   "metadata": {},
   "source": [
    "Ou ainda, ao invés de baixar o arquivo, é possivel fazer com o que o mapa seja criado com a leitura dos dados diretamente do site do IBGE. Nessa função o encoding já foi definido, evitando o problema mencionado acima."
   ]
  },
  {
   "cell_type": "code",
   "execution_count": null,
   "metadata": {},
   "outputs": [],
   "source": [
    "import json\n",
    "import urllib.request\n",
    "\n",
    "webURL = urllib.request.urlopen(url)\n",
    "data = webURL.read()\n",
    "encoding = webURL.info().get_content_charset('utf-8')\n",
    "\n",
    "JSON_object = json.loads(data.decode(encoding))\n",
    "#JSON_object"
   ]
  },
  {
   "cell_type": "code",
   "execution_count": null,
   "metadata": {},
   "outputs": [],
   "source": [
    "import folium\n",
    "\n",
    "# Cria o mapa\n",
    "webmap = folium.Map(\n",
    "    location=[-23.9619271,-46.3427499],\n",
    "    zoom_start=8\n",
    ")\n",
    "\n",
    "folium.GeoJson(JSON_object, name='Trajetos').add_to(webmap)\n",
    "\n",
    "# Fit and Plot map\n",
    "webmap.fit_bounds(webmap.get_bounds())\n",
    "webmap"
   ]
  },
  {
   "cell_type": "markdown",
   "metadata": {},
   "source": [
    "Uma vez com o mapa na mão, de qualquer que seja o meio que foi obtido, é possivel analisar a \"tabela de atributos\".\n",
    "Lá descobrimos que existe o par de coordenadas que define o centroide e, ainda, o 'codarea' que tem o código do IBGE do município.\n",
    "\n",
    "# _Download_ dos dados tabulares\n"
   ]
  },
  {
   "cell_type": "code",
   "execution_count": null,
   "metadata": {},
   "outputs": [],
   "source": [
    "import os\n",
    "import urllib.request\n",
    "import shutil\n",
    "\n",
    "# Define qual o código IBGE do Estado\n",
    "estado = 35\n",
    "\n",
    "# Define o nome do arquivo que será salvo as informações do IBGE\n",
    "filename = os.path.join('data', 'tab.json')\n",
    "\n",
    "url = ('http://servicodados.ibge.gov.br/api/v1/localidades/estados/'+\n",
    "       str(estado)+\n",
    "       '/municipios')\n",
    "\n",
    "# Faz o download do arquivo da 'url' e salva localmente com o nome do arquivo\n",
    "with urllib.request.urlopen(url) as response, open(filename, 'wb') as out_file:\n",
    "       shutil.copyfileobj(response, out_file)"
   ]
  },
  {
   "cell_type": "markdown",
   "metadata": {},
   "source": [
    "# Missão é:\n",
    "\n",
    "- Renomear o campo.\n",
    "- Dar joins entre jsons\n",
    "- plotar colorido!"
   ]
  },
  {
   "cell_type": "code",
   "execution_count": null,
   "metadata": {},
   "outputs": [],
   "source": [
    "import pandas as pd\n",
    "\n",
    "\n",
    "tab = pd.DataFrame(JSON_object)\n",
    "tab"
   ]
  },
  {
   "cell_type": "code",
   "execution_count": null,
   "metadata": {},
   "outputs": [],
   "source": [
    "# Seleciona Colunas\n",
    "tab = tab[['id','nome']]\n",
    "\n",
    "# Renomeia Colunas\n",
    "tab = tab.rename(columns=lambda x: x.replace('id', 'id_ibge'))\n",
    "tab"
   ]
  },
  {
   "cell_type": "code",
   "execution_count": null,
   "metadata": {},
   "outputs": [],
   "source": [
    "import json\n",
    "import pandas as pd\n",
    "import geopandas as gpd"
   ]
  },
  {
   "cell_type": "code",
   "execution_count": null,
   "metadata": {},
   "outputs": [],
   "source": [
    "#Change the data type and column name to match the geojson file\n",
    "\n",
    "gdf = gpd.read_file(os.path.join('data', 'divadmin.json'))\n",
    "gdf\n",
    "\n",
    "#merge = gdf.merge(tab2, how='left', on='codarea')"
   ]
  },
  {
   "cell_type": "code",
   "execution_count": null,
   "metadata": {},
   "outputs": [],
   "source": [
    "webmap = folium.Map(\n",
    "    location=[-23.9619271,-46.3427499],\n",
    "    zoom_start=8\n",
    ")\n",
    "\n",
    "folium.Choropleth(\n",
    "    geo_data=gdf,\n",
    "    name='choropleth',\n",
    "    data=tab,\n",
    "    columns=['id_ibge', 'nome'],\n",
    "    key_on='features.codearea',\n",
    "    fill_color='YlGn',\n",
    "    fill_opacity=0.7,\n",
    "    line_opacity=0.2,\n",
    "    legend_name='Unemployment Rate %'\n",
    ").add_to(webmap)\n",
    "\n",
    "webmap"
   ]
  },
  {
   "cell_type": "code",
   "execution_count": null,
   "metadata": {},
   "outputs": [],
   "source": [
    "def replace_in_json_file(filename, from_str, to_str):\n",
    "    with open(filename) as f:\n",
    "        data = f.read()\n",
    "    with open(filename, 'w') as f:\n",
    "        f.write(data.replace(from_str, to_str))"
   ]
  },
  {
   "cell_type": "code",
   "execution_count": null,
   "metadata": {},
   "outputs": [],
   "source": [
    "def replace_in_json_file(obj, from_str, to_str):\n",
    "    for key in obj.keys():\n",
    "        print(key)\n",
    "        new_key = key.replace(from_str, to_str)\n",
    "        if new_key != key:\n",
    "            obj[new_key] = obj[key]\n",
    "            del obj[key]\n",
    "    return obj"
   ]
  },
  {
   "cell_type": "code",
   "execution_count": null,
   "metadata": {},
   "outputs": [],
   "source": [
    "#replace_in_json_file(JSON_object, 'codarea', 'id_ibge')\n",
    "import json\n",
    "#json_dict = json.loads(JSON_object)\n",
    "\n",
    "#for item in json_dict[features]:\n",
    "#    print(item)\n",
    "#JSON_object\n",
    "JSON_object['features']"
   ]
  },
  {
   "cell_type": "code",
   "execution_count": null,
   "metadata": {},
   "outputs": [],
   "source": [
    "# Replace string in keys of a Json object\n",
    "def replace_string(obj, from_str, to_str):\n",
    "    for key in obj.keys():\n",
    "        print(key)\n",
    "        new_key = key.replace(from_str, to_str)\n",
    "        if new_key != key:\n",
    "            obj[new_key] = obj[key]\n",
    "            del obj[key]\n",
    "    return obj\n",
    "\n",
    "\n",
    "replace_string(JSON_object, 'crs', 'crs2')\n",
    "#new_json = json.loads(data, object_hook=remove_dot_key)"
   ]
  },
  {
   "cell_type": "code",
   "execution_count": null,
   "metadata": {},
   "outputs": [],
   "source": [
    "JSON_object"
   ]
  },
  {
   "cell_type": "code",
   "execution_count": null,
   "metadata": {},
   "outputs": [],
   "source": [
    "#url = 'http://portalgeo.seade.gov.br/wp-content/uploads/2019/03/LimiteMunicipal_IGC.zip'\n",
    "# Se lê certo, no notepad aparecer UTF-8 BOM WO\n",
    "\n",
    "\n",
    "\n",
    "\n",
    "import json\n",
    "import urllib.request\n",
    "\n",
    "webURL = urllib.request.urlopen(url)\n",
    "data = webURL.read()\n",
    "encoding = webURL.info().get_content_charset('utf-8')\n",
    "\n",
    "JSON_object = json.loads(data.decode(encoding))\n",
    "JSON_object"
   ]
  },
  {
   "cell_type": "markdown",
   "metadata": {},
   "source": [
    "# Referências"
   ]
  },
  {
   "cell_type": "markdown",
   "metadata": {},
   "source": [
    "___\n",
    "<br>\n",
    "\n",
    "# Exportando o _Juptyter Notebook_ para outros formatos\n",
    "O arquivo _.ipynb_ pode ser exportado em formatos diversos. Abaixo carrego uma função que escrevi para facilitar o processo de exportação do arquivo em diferentes locais do PC para, posteriormente, atualizar os repositórios contidos no <a title=\"Link do GitHub\" href=\"https://github.com/michelmetran\" target=\"_blank\">_GitHub_</a>."
   ]
  },
  {
   "cell_type": "code",
   "execution_count": null,
   "metadata": {},
   "outputs": [],
   "source": [
    "# %load '~/Documents/SourceCode/codes/files/export_jupyter.py'\n",
    "def export_jupyter(path, extensions=['html', 'markdown', 'latex', 'pdf', 'python'], today=True):\n",
    "    \"\"\"\n",
    "    Export .ipynb file to others formats\n",
    "    :return: File in other formats\n",
    "    \"\"\"\n",
    "    # Import Packages\n",
    "    import os\n",
    "    import datetime\n",
    "\n",
    "    # Data\n",
    "    timestamp = datetime.datetime.now()\n",
    "    srt_today = (str(timestamp.year) + '-' +\n",
    "                 str(f\"{timestamp.month:02d}\") + '-' +\n",
    "                 str(f\"{timestamp.day:02d}\"))\n",
    "\n",
    "    # Extensions\n",
    "    for extension in extensions:\n",
    "        if today==True:\n",
    "            os.system('jupyter nbconvert --to {} {} --output {}'.\n",
    "                      format(extension, get_jupyternotebook_name(),\n",
    "                             os.path.join(path, srt_today+'-'+get_jupyternotebook_name().split('.')[0])))\n",
    "            print('Arquivo {} exportado corretamente para o formato {} usando prefixo da data.'.\n",
    "                  format(get_jupyternotebook_name(), extension))\n",
    "\n",
    "        else:\n",
    "            os.system('jupyter nbconvert --to {} {} --output {}'.\n",
    "                      format(extension, get_jupyternotebook_name(),\n",
    "                             os.path.join(path, get_jupyternotebook_name().split('.')[0])))\n",
    "            print('Arquivo {} exportado corretamente para o formato {} sem usar prefixo da data.'.\n",
    "                  format(get_jupyternotebook_name(), extension))\n"
   ]
  },
  {
   "cell_type": "code",
   "execution_count": null,
   "metadata": {},
   "outputs": [],
   "source": [
    "%run '~/Documents/SourceCode/codes/files/get_jupyternotebook_name.py'"
   ]
  },
  {
   "cell_type": "markdown",
   "metadata": {},
   "source": [
    "Com as funções para exportar o _Jupyter Notebook_ e para obter o nome do arquivo _.ipynb_ carregadas, basta exportar o arquivo, inicialmente para a pasta _docs_ dentro do projeto e também, visando atualizar os _posts_ do site, para a respectiva pasta."
   ]
  },
  {
   "cell_type": "code",
   "execution_count": null,
   "metadata": {},
   "outputs": [],
   "source": [
    "export_jupyter('docs',['pdf'], False)\n",
    "export_jupyter('/home/michel/Documents/SourceCode/michelmetran.github.io/_posts', ['markdown'], True)"
   ]
  },
  {
   "cell_type": "markdown",
   "metadata": {},
   "source": [
    "<br>\n",
    "\n",
    "# Atualizando Repositórios\n",
    "Após as exportações dos arquivos nos formatos necessários, basta atualizar o repositório diretamente pelo  _Jupyter Notebook_.\n",
    "Abaixo é atualizado o repositório desse projeto específico, bem como a derivação desse projeto no <a title=\"Link do Folium\" href=\"https://michelmetran.github.io/\" target=\"_blank\">**_site_**</a>."
   ]
  },
  {
   "cell_type": "code",
   "execution_count": null,
   "metadata": {},
   "outputs": [],
   "source": [
    "%run '../codes/git/update_github.py'"
   ]
  },
  {
   "cell_type": "code",
   "execution_count": null,
   "metadata": {},
   "outputs": [],
   "source": [
    "git_full('.', '.', 'Atualizando')\n",
    "#git_full('/home/michel/Documents/SourceCode/michelmetran.github.io', '.', 'Atualizando')"
   ]
  },
  {
   "cell_type": "markdown",
   "metadata": {},
   "source": [
    "# _Requirements_\n",
    "Abaixo é criado o arquivo _requirements.txt_ na raiz do projeto para possibilitar o correto funcionamento do _Jupyter Notebook_ no <a title=\"Link do My Binder\" href=\"https://mybinder.org/\" target=\"_blank\">**_My Binder_**</a>. Após a criação do arquivo, sugere-se a edição manual, visando manter apenas os _packages_ realmente essenciais, listados com o comando _import_ no início do _script_."
   ]
  },
  {
   "cell_type": "code",
   "execution_count": null,
   "metadata": {},
   "outputs": [],
   "source": [
    "#pip freeze > requirements.txt"
   ]
  }
 ],
 "metadata": {
  "kernelspec": {
   "display_name": "Python [conda env:pablocarreira-py36]",
   "language": "python",
   "name": "conda-env-pablocarreira-py36-py"
  },
  "language_info": {
   "codemirror_mode": {
    "name": "ipython",
    "version": 3
   },
   "file_extension": ".py",
   "mimetype": "text/x-python",
   "name": "python",
   "nbconvert_exporter": "python",
   "pygments_lexer": "ipython3",
   "version": "3.6.10"
  },
  "toc": {
   "base_numbering": 1,
   "nav_menu": {},
   "number_sections": true,
   "sideBar": true,
   "skip_h1_title": false,
   "title_cell": "Table of Contents",
   "title_sidebar": "Contents",
   "toc_cell": false,
   "toc_position": {
    "height": "calc(100% - 180px)",
    "left": "10px",
    "top": "150px",
    "width": "190px"
   },
   "toc_section_display": true,
   "toc_window_display": true
  }
 },
 "nbformat": 4,
 "nbformat_minor": 2
}
