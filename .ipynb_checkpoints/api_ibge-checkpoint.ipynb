{
 "cells": [
  {
   "cell_type": "markdown",
   "metadata": {},
   "source": [
    "---\n",
    "layout: post\n",
    "title: API do IBGE\n",
    "subtitle: Exercícios e Referências\n",
    "tags: [python, pycharm, jupyter, package, ibge, api]\n",
    "image: /img/posts/icon_pandas.png\n",
    "bigimg: /img/posts/big_pandas.png\n",
    "gh-repo: michelmetran/api_ibge\n",
    "gh-badge: [follow, star, watch, fork]\n",
    "comments: true\n",
    "\n",
    "---"
   ]
  },
  {
   "cell_type": "markdown",
   "metadata": {},
   "source": [
    "O <a title=\"Link do Pandas\" href=\"https://pandas.pydata.org/\" target=\"_blank\">**_Pandas_**</a> é um pacote que possibilita o manejo dos dados.\n",
    "\n",
    "{: .alert .alert-danger}\n",
    "**Aviso:** Esse _post_ tem a finalidade de mostrar os comandos básicos e me deixar com uma \"cola\" rápida para meu uso cotidiano. Todas os códigos são exemplificativos e podem/devem ser alterados, indicando o nome dos arquivos e diretórios corretamente.\n",
    "\n",
    "{: .box-note}\n",
    "**Nota:** É possível acessar esse _post_ em formato <a title=\"Link do Folium\" href=\"https://github.com/michelmetran/package_pandas/raw/master/docs/pandas.pdf\" target=\"_blank\">**_pdf_**</a>, diretamente por meio do <a title=\"Link do Repositório\" href=\"https://github.com/michelmetran/package_pandas\" target=\"_blank\">**repositório do GitHub**</a> ou ainda, de maneira interativa, usando o [![Binder](https://mybinder.org/badge_logo.svg)](https://mybinder.org/v2/gh/michelmetran/package_pandas/master)."
   ]
  },
  {
   "cell_type": "markdown",
   "metadata": {},
   "source": [
    "<br>\n",
    "\n",
    "# Pandas\n",
    "\n",
    "As bibliotecas básicas, ou _packages_, necessárias para criação do mapa são:\n",
    "- O **_Pandas_**, que tem a missão de trabalhar com dados, criar _subsets_, selecionar e filtros dados e;\n",
    "- O **_Geopandas_**, que é a biblioteca lê geojson!"
   ]
  },
  {
   "cell_type": "code",
   "execution_count": 4,
   "metadata": {},
   "outputs": [],
   "source": [
    "import pandas as pd\n",
    "import geopandas as gpd"
   ]
  },
  {
   "cell_type": "code",
   "execution_count": 5,
   "metadata": {},
   "outputs": [
    {
     "data": {
      "text/plain": [
       "name                           object\n",
       "situation                      object\n",
       "neighborhood                   object\n",
       "address                        object\n",
       "number                         object\n",
       "zip_code                       object\n",
       "city                           object\n",
       "state                          object\n",
       "cnpj                           object\n",
       "status                         object\n",
       "additional_address_details     object\n",
       "main_activity                  object\n",
       "latitude                      float64\n",
       "longitude                     float64\n",
       "dtype: object"
      ]
     },
     "execution_count": 5,
     "metadata": {},
     "output_type": "execute_result"
    }
   ],
   "source": [
    "# Lendo e filtrando dados\n",
    "empresas = pd.read_csv('data/empresas.xz')\n",
    "empresas = empresas[empresas['state'] == 'SP']\n",
    "empresas = empresas[empresas['city'] == 'SANTOS']\n",
    "\n",
    "empresas.dtypes"
   ]
  },
  {
   "cell_type": "markdown",
   "metadata": {},
   "source": [
    "# GeoPandas"
   ]
  },
  {
   "cell_type": "code",
   "execution_count": 6,
   "metadata": {},
   "outputs": [],
   "source": [
    "#https://rsandstroem.github.io/GeoMapsFoliumDemo.html"
   ]
  },
  {
   "cell_type": "markdown",
   "metadata": {},
   "source": [
    "# OS\n",
    "Ainda segue uns comandas básicos para 'andar' entre pastas e arquivos."
   ]
  },
  {
   "cell_type": "code",
   "execution_count": 7,
   "metadata": {},
   "outputs": [
    {
     "name": "stdout",
     "output_type": "stream",
     "text": [
      "/home/michel/Documents/SourceCode/package_pandas\n",
      "/home/michel/Documents/SourceCode/package_pandas\n"
     ]
    }
   ],
   "source": [
    "import os\n",
    "\n",
    "# Pasta Atual\n",
    "print(os.getcwd())\n",
    "\n",
    "# Altera a pasta para um nível acima\n",
    "os.chdir('/home/michel/Documents/SourceCode/michelmetran.github.io')\n",
    "os.chdir('/home/michel/Documents/SourceCode/package_pandas')\n",
    "\n",
    "# Confere a pasta\n",
    "print(os.getcwd())\n",
    "\n",
    "#from importlib import reload\n",
    "#reload(os)"
   ]
  },
  {
   "cell_type": "markdown",
   "metadata": {},
   "source": [
    "___\n",
    "<br>\n",
    "\n",
    "# Exportando o _Juptyter Notebook_ para outros formatos\n",
    "O arquivo _.ipynb_ pode ser exportado em formatos diversos. Abaixo carrego uma função que escrevi para facilitar o processo de exportação do arquivo em diferentes locais do PC para, posteriormente, atualizar os repositórios contidos no <a title=\"Link do GitHub\" href=\"https://github.com/michelmetran\" target=\"_blank\">_GitHub_</a>."
   ]
  },
  {
   "cell_type": "code",
   "execution_count": 8,
   "metadata": {},
   "outputs": [],
   "source": [
    "# %load '~/Documents/SourceCode/codes/files/export_jupyter.py'\n",
    "def export_jupyter(path, extensions=['html', 'markdown', 'latex', 'pdf', 'python'], today=True):\n",
    "    \"\"\"\n",
    "    Export .ipynb file to others formats\n",
    "    :return: File in other formats\n",
    "    \"\"\"\n",
    "    # Import Packages\n",
    "    import os\n",
    "    import datetime\n",
    "\n",
    "    # Data\n",
    "    timestamp = datetime.datetime.now()\n",
    "    srt_today = (str(timestamp.year) + '-' +\n",
    "                 str(f\"{timestamp.month:02d}\") + '-' +\n",
    "                 str(f\"{timestamp.day:02d}\"))\n",
    "\n",
    "    # Extensions\n",
    "    for extension in extensions:\n",
    "        if today==True:\n",
    "            os.system('jupyter nbconvert --to {} {} --output {}'.\n",
    "                      format(extension, get_jupyternotebook_name(),\n",
    "                             os.path.join(path, srt_today+'-'+get_jupyternotebook_name().split('.')[0])))\n",
    "            print('Arquivo {} exportado corretamente para o formato {} usando prefixo da data.'.\n",
    "                  format(get_jupyternotebook_name(), extension))\n",
    "\n",
    "        else:\n",
    "            os.system('jupyter nbconvert --to {} {} --output {}'.\n",
    "                      format(extension, get_jupyternotebook_name(),\n",
    "                             os.path.join(path, get_jupyternotebook_name().split('.')[0])))\n",
    "            print('Arquivo {} exportado corretamente para o formato {} sem usar prefixo da data.'.\n",
    "                  format(get_jupyternotebook_name(), extension))\n"
   ]
  },
  {
   "cell_type": "code",
   "execution_count": 13,
   "metadata": {},
   "outputs": [],
   "source": [
    "# %load '~/Documents/SourceCode/codes/files/get_jupyternotebook_name.py'\n",
    "def get_jupyternotebook_name():\n",
    "    \"\"\"\n",
    "    Returns the name of the current notebook as a string\n",
    "    From https://mail.scipy.org/pipermail/ipython-dev/2014-June/014096.html\n",
    "    :return: Returns the name of the current notebook as a string\n",
    "    \"\"\"\n",
    "    # Import Packages\n",
    "    from IPython.core.display import Javascript\n",
    "    from IPython.display import display\n",
    "\n",
    "    display(Javascript('IPython.notebook.kernel.execute(\"theNotebook = \" + \\\n",
    "    \"\\'\"+IPython.notebook.notebook_name+\"\\'\");'))\n",
    "\n",
    "    # Result\n",
    "    return theNotebook\n"
   ]
  },
  {
   "cell_type": "markdown",
   "metadata": {},
   "source": [
    "Com as funções para exportar o _Jupyter Notebook_ e para obter o nome do arquivo _.ipynb_ carregadas, basta exportar o arquivo, inicialmente para a pasta _docs_ dentro do projeto e também, visando atualizar os _posts_ do site, para a respectiva pasta."
   ]
  },
  {
   "cell_type": "code",
   "execution_count": 14,
   "metadata": {},
   "outputs": [
    {
     "data": {
      "application/javascript": [
       "IPython.notebook.kernel.execute(\"theNotebook = \" +     \"'\"+IPython.notebook.notebook_name+\"'\");"
      ],
      "text/plain": [
       "<IPython.core.display.Javascript object>"
      ]
     },
     "metadata": {},
     "output_type": "display_data"
    },
    {
     "data": {
      "application/javascript": [
       "IPython.notebook.kernel.execute(\"theNotebook = \" +     \"'\"+IPython.notebook.notebook_name+\"'\");"
      ],
      "text/plain": [
       "<IPython.core.display.Javascript object>"
      ]
     },
     "metadata": {},
     "output_type": "display_data"
    },
    {
     "data": {
      "application/javascript": [
       "IPython.notebook.kernel.execute(\"theNotebook = \" +     \"'\"+IPython.notebook.notebook_name+\"'\");"
      ],
      "text/plain": [
       "<IPython.core.display.Javascript object>"
      ]
     },
     "metadata": {},
     "output_type": "display_data"
    },
    {
     "name": "stdout",
     "output_type": "stream",
     "text": [
      "Arquivo pandas.ipynb exportado corretamente para o formato pdf sem usar prefixo da data.\n"
     ]
    },
    {
     "data": {
      "application/javascript": [
       "IPython.notebook.kernel.execute(\"theNotebook = \" +     \"'\"+IPython.notebook.notebook_name+\"'\");"
      ],
      "text/plain": [
       "<IPython.core.display.Javascript object>"
      ]
     },
     "metadata": {},
     "output_type": "display_data"
    },
    {
     "data": {
      "application/javascript": [
       "IPython.notebook.kernel.execute(\"theNotebook = \" +     \"'\"+IPython.notebook.notebook_name+\"'\");"
      ],
      "text/plain": [
       "<IPython.core.display.Javascript object>"
      ]
     },
     "metadata": {},
     "output_type": "display_data"
    },
    {
     "data": {
      "application/javascript": [
       "IPython.notebook.kernel.execute(\"theNotebook = \" +     \"'\"+IPython.notebook.notebook_name+\"'\");"
      ],
      "text/plain": [
       "<IPython.core.display.Javascript object>"
      ]
     },
     "metadata": {},
     "output_type": "display_data"
    },
    {
     "name": "stdout",
     "output_type": "stream",
     "text": [
      "Arquivo pandas.ipynb exportado corretamente para o formato markdown usando prefixo da data.\n"
     ]
    }
   ],
   "source": [
    "export_jupyter('docs',['pdf'], False)\n",
    "export_jupyter('/home/michel/Documents/SourceCode/michelmetran.github.io/_posts', ['markdown'], True)"
   ]
  },
  {
   "cell_type": "markdown",
   "metadata": {},
   "source": [
    "<br>\n",
    "\n",
    "# Atualizando Repositórios\n",
    "Após as exportações dos arquivos nos formatos necessários, basta atualizar o repositório diretamente pelo  _Jupyter Notebook_.\n",
    "Abaixo é atualizado o repositório desse projeto específico, bem como a derivação desse projeto no <a title=\"Link do Folium\" href=\"https://michelmetran.github.io/\" target=\"_blank\">**_site_**</a>."
   ]
  },
  {
   "cell_type": "code",
   "execution_count": 17,
   "metadata": {},
   "outputs": [],
   "source": [
    "%run '~/Documents/SourceCode/codes/git/update_github.py'"
   ]
  },
  {
   "cell_type": "code",
   "execution_count": 18,
   "metadata": {},
   "outputs": [
    {
     "name": "stdout",
     "output_type": "stream",
     "text": [
      "b'' b''\n",
      "b\"On branch master\\nYour branch is up to date with 'origin/master'.\\n\\nnothing to commit, working tree clean\\n\" b''\n",
      "b'' b'Everything up-to-date\\n'\n",
      "Done!!\n",
      "b'' b''\n",
      "b'[master 1490947] Atualizando\\n 1 file changed, 225 deletions(-)\\n delete mode 100644 _posts/2019-08-22-pandas.md\\n' b''\n",
      "b'' b'To github.com:michelmetran/michelmetran.github.io.git\\n   340a033..1490947  master -> master\\n'\n",
      "Done!!\n"
     ]
    }
   ],
   "source": [
    "git_full('/home/michel/Documents/SourceCode/package_pandas', '.', 'Atualizando')\n",
    "git_full('/home/michel/Documents/SourceCode/michelmetran.github.io', '.', 'Atualizando')"
   ]
  },
  {
   "cell_type": "markdown",
   "metadata": {},
   "source": [
    "# _Requirements_\n",
    "Abaixo é criado o arquivo _requirements.txt_ na raiz do projeto para possibilitar o correto funcionamento do _Jupyter Notebook_ no <a title=\"Link do My Binder\" href=\"https://mybinder.org/\" target=\"_blank\">**_My Binder_**</a>. Após a criação do arquivo, sugere-se a edição manual, visando manter apenas os _packages_ realmente essenciais, listados com o comando _import_ no início do _script_."
   ]
  },
  {
   "cell_type": "code",
   "execution_count": null,
   "metadata": {},
   "outputs": [],
   "source": [
    "#pip freeze > requirements.txt"
   ]
  }
 ],
 "metadata": {
  "kernelspec": {
   "display_name": "Python [conda env:pablocarreira-py36] *",
   "language": "python",
   "name": "conda-env-pablocarreira-py36-py"
  },
  "language_info": {
   "codemirror_mode": {
    "name": "ipython",
    "version": 3
   },
   "file_extension": ".py",
   "mimetype": "text/x-python",
   "name": "python",
   "nbconvert_exporter": "python",
   "pygments_lexer": "ipython3",
   "version": "3.6.7"
  },
  "toc": {
   "base_numbering": 1,
   "nav_menu": {},
   "number_sections": true,
   "sideBar": true,
   "skip_h1_title": false,
   "title_cell": "Table of Contents",
   "title_sidebar": "Contents",
   "toc_cell": false,
   "toc_position": {
    "height": "calc(100% - 180px)",
    "left": "10px",
    "top": "150px",
    "width": "295px"
   },
   "toc_section_display": true,
   "toc_window_display": true
  }
 },
 "nbformat": 4,
 "nbformat_minor": 2
}
